{
  "nbformat": 4,
  "nbformat_minor": 0,
  "metadata": {
    "colab": {
      "name": "Data Preparation and Feature Engineering.ipynb",
      "provenance": [],
      "collapsed_sections": []
    },
    "kernelspec": {
      "name": "python3",
      "display_name": "Python 3"
    },
    "language_info": {
      "name": "python"
    }
  },
  "cells": [
    {
      "cell_type": "markdown",
      "source": [
        "# Data Preparation and Feature Engineering"
      ],
      "metadata": {
        "id": "xQ5HebpMAhp8"
      }
    },
    {
      "cell_type": "code",
      "source": [
        "import numpy as np\n",
        "import pandas as pd\n",
        "import seaborn as sns\n",
        "\n",
        "\n",
        "df = pd.read_csv(\"https://raw.githubusercontent.com/Ale-Man1/Data-Preparation-and-Feature-Engineering/main/imports-85.csv\")\n",
        "df.index += 1\n",
        "pd.set_option('display.max_columns', None)\n",
        "print(df)\n",
        "print(df.dtypes)\n",
        "df.describe()"
      ],
      "metadata": {
        "colab": {
          "base_uri": "https://localhost:8080/",
          "height": 1000
        },
        "id": "OkBAN32xLm82",
        "outputId": "e642bf01-a7da-4664-c853-09937d324567"
      },
      "execution_count": 1,
      "outputs": [
        {
          "output_type": "stream",
          "name": "stdout",
          "text": [
            "     Symboling NormalizedLosses         Make FuelType Aspiration NumOfDoors  \\\n",
            "1            3                ?  alfa-romero      gas        std        two   \n",
            "2            3                ?  alfa-romero      gas        std        two   \n",
            "3            1                ?  alfa-romero      gas        std        two   \n",
            "4            2              164         audi      gas        std       four   \n",
            "5            2              164         audi      gas        std       four   \n",
            "..         ...              ...          ...      ...        ...        ...   \n",
            "201         -1               95        volvo      gas        std       four   \n",
            "202         -1               95        volvo      gas      turbo       four   \n",
            "203         -1               95        volvo      gas        std       four   \n",
            "204         -1               95        volvo   diesel      turbo       four   \n",
            "205         -1               95        volvo      gas      turbo       four   \n",
            "\n",
            "       BodyStyle DriveWheels EngineLocation  WheelBase  Length  Width  Height  \\\n",
            "1    convertible         rwd          front       88.6   168.8   64.1    48.8   \n",
            "2    convertible         rwd          front       88.6   168.8   64.1    48.8   \n",
            "3      hatchback         rwd          front       94.5   171.2   65.5    52.4   \n",
            "4          sedan         fwd          front       99.8   176.6   66.2    54.3   \n",
            "5          sedan         4wd          front       99.4   176.6   66.4    54.3   \n",
            "..           ...         ...            ...        ...     ...    ...     ...   \n",
            "201        sedan         rwd          front      109.1   188.8   68.9    55.5   \n",
            "202        sedan         rwd          front      109.1   188.8   68.8    55.5   \n",
            "203        sedan         rwd          front      109.1   188.8   68.9    55.5   \n",
            "204        sedan         rwd          front      109.1   188.8   68.9    55.5   \n",
            "205        sedan         rwd          front      109.1   188.8   68.9    55.5   \n",
            "\n",
            "     CurbWeight EngineType NumOfCylinders  EngineSize FuelSystem  Bore Stroke  \\\n",
            "1          2548       dohc           four         130       mpfi  3.47   2.68   \n",
            "2          2548       dohc           four         130       mpfi  3.47   2.68   \n",
            "3          2823       ohcv            six         152       mpfi  2.68   3.47   \n",
            "4          2337        ohc           four         109       mpfi  3.19    3.4   \n",
            "5          2824        ohc           five         136       mpfi  3.19    3.4   \n",
            "..          ...        ...            ...         ...        ...   ...    ...   \n",
            "201        2952        ohc           four         141       mpfi  3.78   3.15   \n",
            "202        3049        ohc           four         141       mpfi  3.78   3.15   \n",
            "203        3012       ohcv            six         173       mpfi  3.58   2.87   \n",
            "204        3217        ohc            six         145        idi  3.01    3.4   \n",
            "205        3062        ohc           four         141       mpfi  3.78   3.15   \n",
            "\n",
            "     CompressionRatio Horsepower PeakRPM  CityMPG  HighwayMPG  Price  \n",
            "1                 9.0        111    5000       21          27  13495  \n",
            "2                 9.0        111    5000       21          27  16500  \n",
            "3                 9.0        154    5000       19          26  16500  \n",
            "4                10.0        102    5500       24          30  13950  \n",
            "5                 8.0        115    5500       18          22  17450  \n",
            "..                ...        ...     ...      ...         ...    ...  \n",
            "201               9.5        114    5400       23          28  16845  \n",
            "202               8.7        160    5300       19          25  19045  \n",
            "203               8.8        134    5500       18          23  21485  \n",
            "204              23.0        106    4800       26          27  22470  \n",
            "205               9.5        114    5400       19          25  22625  \n",
            "\n",
            "[205 rows x 26 columns]\n",
            "Symboling             int64\n",
            "NormalizedLosses     object\n",
            "Make                 object\n",
            "FuelType             object\n",
            "Aspiration           object\n",
            "NumOfDoors           object\n",
            "BodyStyle            object\n",
            "DriveWheels          object\n",
            "EngineLocation       object\n",
            "WheelBase           float64\n",
            "Length              float64\n",
            "Width               float64\n",
            "Height              float64\n",
            "CurbWeight            int64\n",
            "EngineType           object\n",
            "NumOfCylinders       object\n",
            "EngineSize            int64\n",
            "FuelSystem           object\n",
            "Bore                 object\n",
            "Stroke               object\n",
            "CompressionRatio    float64\n",
            "Horsepower           object\n",
            "PeakRPM              object\n",
            "CityMPG               int64\n",
            "HighwayMPG            int64\n",
            "Price                object\n",
            "dtype: object\n"
          ]
        },
        {
          "output_type": "execute_result",
          "data": {
            "text/plain": [
              "        Symboling   WheelBase      Length       Width      Height  \\\n",
              "count  205.000000  205.000000  205.000000  205.000000  205.000000   \n",
              "mean     0.834146   98.756585  174.049268   65.907805   53.724878   \n",
              "std      1.245307    6.021776   12.337289    2.145204    2.443522   \n",
              "min     -2.000000   86.600000  141.100000   60.300000   47.800000   \n",
              "25%      0.000000   94.500000  166.300000   64.100000   52.000000   \n",
              "50%      1.000000   97.000000  173.200000   65.500000   54.100000   \n",
              "75%      2.000000  102.400000  183.100000   66.900000   55.500000   \n",
              "max      3.000000  120.900000  208.100000   72.300000   59.800000   \n",
              "\n",
              "        CurbWeight  EngineSize  CompressionRatio     CityMPG  HighwayMPG  \n",
              "count   205.000000  205.000000        205.000000  205.000000  205.000000  \n",
              "mean   2555.565854  126.907317         10.142537   25.219512   30.751220  \n",
              "std     520.680204   41.642693          3.972040    6.542142    6.886443  \n",
              "min    1488.000000   61.000000          7.000000   13.000000   16.000000  \n",
              "25%    2145.000000   97.000000          8.600000   19.000000   25.000000  \n",
              "50%    2414.000000  120.000000          9.000000   24.000000   30.000000  \n",
              "75%    2935.000000  141.000000          9.400000   30.000000   34.000000  \n",
              "max    4066.000000  326.000000         23.000000   49.000000   54.000000  "
            ],
            "text/html": [
              "\n",
              "  <div id=\"df-ccf31332-0401-4545-8445-1216367f252b\">\n",
              "    <div class=\"colab-df-container\">\n",
              "      <div>\n",
              "<style scoped>\n",
              "    .dataframe tbody tr th:only-of-type {\n",
              "        vertical-align: middle;\n",
              "    }\n",
              "\n",
              "    .dataframe tbody tr th {\n",
              "        vertical-align: top;\n",
              "    }\n",
              "\n",
              "    .dataframe thead th {\n",
              "        text-align: right;\n",
              "    }\n",
              "</style>\n",
              "<table border=\"1\" class=\"dataframe\">\n",
              "  <thead>\n",
              "    <tr style=\"text-align: right;\">\n",
              "      <th></th>\n",
              "      <th>Symboling</th>\n",
              "      <th>WheelBase</th>\n",
              "      <th>Length</th>\n",
              "      <th>Width</th>\n",
              "      <th>Height</th>\n",
              "      <th>CurbWeight</th>\n",
              "      <th>EngineSize</th>\n",
              "      <th>CompressionRatio</th>\n",
              "      <th>CityMPG</th>\n",
              "      <th>HighwayMPG</th>\n",
              "    </tr>\n",
              "  </thead>\n",
              "  <tbody>\n",
              "    <tr>\n",
              "      <th>count</th>\n",
              "      <td>205.000000</td>\n",
              "      <td>205.000000</td>\n",
              "      <td>205.000000</td>\n",
              "      <td>205.000000</td>\n",
              "      <td>205.000000</td>\n",
              "      <td>205.000000</td>\n",
              "      <td>205.000000</td>\n",
              "      <td>205.000000</td>\n",
              "      <td>205.000000</td>\n",
              "      <td>205.000000</td>\n",
              "    </tr>\n",
              "    <tr>\n",
              "      <th>mean</th>\n",
              "      <td>0.834146</td>\n",
              "      <td>98.756585</td>\n",
              "      <td>174.049268</td>\n",
              "      <td>65.907805</td>\n",
              "      <td>53.724878</td>\n",
              "      <td>2555.565854</td>\n",
              "      <td>126.907317</td>\n",
              "      <td>10.142537</td>\n",
              "      <td>25.219512</td>\n",
              "      <td>30.751220</td>\n",
              "    </tr>\n",
              "    <tr>\n",
              "      <th>std</th>\n",
              "      <td>1.245307</td>\n",
              "      <td>6.021776</td>\n",
              "      <td>12.337289</td>\n",
              "      <td>2.145204</td>\n",
              "      <td>2.443522</td>\n",
              "      <td>520.680204</td>\n",
              "      <td>41.642693</td>\n",
              "      <td>3.972040</td>\n",
              "      <td>6.542142</td>\n",
              "      <td>6.886443</td>\n",
              "    </tr>\n",
              "    <tr>\n",
              "      <th>min</th>\n",
              "      <td>-2.000000</td>\n",
              "      <td>86.600000</td>\n",
              "      <td>141.100000</td>\n",
              "      <td>60.300000</td>\n",
              "      <td>47.800000</td>\n",
              "      <td>1488.000000</td>\n",
              "      <td>61.000000</td>\n",
              "      <td>7.000000</td>\n",
              "      <td>13.000000</td>\n",
              "      <td>16.000000</td>\n",
              "    </tr>\n",
              "    <tr>\n",
              "      <th>25%</th>\n",
              "      <td>0.000000</td>\n",
              "      <td>94.500000</td>\n",
              "      <td>166.300000</td>\n",
              "      <td>64.100000</td>\n",
              "      <td>52.000000</td>\n",
              "      <td>2145.000000</td>\n",
              "      <td>97.000000</td>\n",
              "      <td>8.600000</td>\n",
              "      <td>19.000000</td>\n",
              "      <td>25.000000</td>\n",
              "    </tr>\n",
              "    <tr>\n",
              "      <th>50%</th>\n",
              "      <td>1.000000</td>\n",
              "      <td>97.000000</td>\n",
              "      <td>173.200000</td>\n",
              "      <td>65.500000</td>\n",
              "      <td>54.100000</td>\n",
              "      <td>2414.000000</td>\n",
              "      <td>120.000000</td>\n",
              "      <td>9.000000</td>\n",
              "      <td>24.000000</td>\n",
              "      <td>30.000000</td>\n",
              "    </tr>\n",
              "    <tr>\n",
              "      <th>75%</th>\n",
              "      <td>2.000000</td>\n",
              "      <td>102.400000</td>\n",
              "      <td>183.100000</td>\n",
              "      <td>66.900000</td>\n",
              "      <td>55.500000</td>\n",
              "      <td>2935.000000</td>\n",
              "      <td>141.000000</td>\n",
              "      <td>9.400000</td>\n",
              "      <td>30.000000</td>\n",
              "      <td>34.000000</td>\n",
              "    </tr>\n",
              "    <tr>\n",
              "      <th>max</th>\n",
              "      <td>3.000000</td>\n",
              "      <td>120.900000</td>\n",
              "      <td>208.100000</td>\n",
              "      <td>72.300000</td>\n",
              "      <td>59.800000</td>\n",
              "      <td>4066.000000</td>\n",
              "      <td>326.000000</td>\n",
              "      <td>23.000000</td>\n",
              "      <td>49.000000</td>\n",
              "      <td>54.000000</td>\n",
              "    </tr>\n",
              "  </tbody>\n",
              "</table>\n",
              "</div>\n",
              "      <button class=\"colab-df-convert\" onclick=\"convertToInteractive('df-ccf31332-0401-4545-8445-1216367f252b')\"\n",
              "              title=\"Convert this dataframe to an interactive table.\"\n",
              "              style=\"display:none;\">\n",
              "        \n",
              "  <svg xmlns=\"http://www.w3.org/2000/svg\" height=\"24px\"viewBox=\"0 0 24 24\"\n",
              "       width=\"24px\">\n",
              "    <path d=\"M0 0h24v24H0V0z\" fill=\"none\"/>\n",
              "    <path d=\"M18.56 5.44l.94 2.06.94-2.06 2.06-.94-2.06-.94-.94-2.06-.94 2.06-2.06.94zm-11 1L8.5 8.5l.94-2.06 2.06-.94-2.06-.94L8.5 2.5l-.94 2.06-2.06.94zm10 10l.94 2.06.94-2.06 2.06-.94-2.06-.94-.94-2.06-.94 2.06-2.06.94z\"/><path d=\"M17.41 7.96l-1.37-1.37c-.4-.4-.92-.59-1.43-.59-.52 0-1.04.2-1.43.59L10.3 9.45l-7.72 7.72c-.78.78-.78 2.05 0 2.83L4 21.41c.39.39.9.59 1.41.59.51 0 1.02-.2 1.41-.59l7.78-7.78 2.81-2.81c.8-.78.8-2.07 0-2.86zM5.41 20L4 18.59l7.72-7.72 1.47 1.35L5.41 20z\"/>\n",
              "  </svg>\n",
              "      </button>\n",
              "      \n",
              "  <style>\n",
              "    .colab-df-container {\n",
              "      display:flex;\n",
              "      flex-wrap:wrap;\n",
              "      gap: 12px;\n",
              "    }\n",
              "\n",
              "    .colab-df-convert {\n",
              "      background-color: #E8F0FE;\n",
              "      border: none;\n",
              "      border-radius: 50%;\n",
              "      cursor: pointer;\n",
              "      display: none;\n",
              "      fill: #1967D2;\n",
              "      height: 32px;\n",
              "      padding: 0 0 0 0;\n",
              "      width: 32px;\n",
              "    }\n",
              "\n",
              "    .colab-df-convert:hover {\n",
              "      background-color: #E2EBFA;\n",
              "      box-shadow: 0px 1px 2px rgba(60, 64, 67, 0.3), 0px 1px 3px 1px rgba(60, 64, 67, 0.15);\n",
              "      fill: #174EA6;\n",
              "    }\n",
              "\n",
              "    [theme=dark] .colab-df-convert {\n",
              "      background-color: #3B4455;\n",
              "      fill: #D2E3FC;\n",
              "    }\n",
              "\n",
              "    [theme=dark] .colab-df-convert:hover {\n",
              "      background-color: #434B5C;\n",
              "      box-shadow: 0px 1px 3px 1px rgba(0, 0, 0, 0.15);\n",
              "      filter: drop-shadow(0px 1px 2px rgba(0, 0, 0, 0.3));\n",
              "      fill: #FFFFFF;\n",
              "    }\n",
              "  </style>\n",
              "\n",
              "      <script>\n",
              "        const buttonEl =\n",
              "          document.querySelector('#df-ccf31332-0401-4545-8445-1216367f252b button.colab-df-convert');\n",
              "        buttonEl.style.display =\n",
              "          google.colab.kernel.accessAllowed ? 'block' : 'none';\n",
              "\n",
              "        async function convertToInteractive(key) {\n",
              "          const element = document.querySelector('#df-ccf31332-0401-4545-8445-1216367f252b');\n",
              "          const dataTable =\n",
              "            await google.colab.kernel.invokeFunction('convertToInteractive',\n",
              "                                                     [key], {});\n",
              "          if (!dataTable) return;\n",
              "\n",
              "          const docLinkHtml = 'Like what you see? Visit the ' +\n",
              "            '<a target=\"_blank\" href=https://colab.research.google.com/notebooks/data_table.ipynb>data table notebook</a>'\n",
              "            + ' to learn more about interactive tables.';\n",
              "          element.innerHTML = '';\n",
              "          dataTable['output_type'] = 'display_data';\n",
              "          await google.colab.output.renderOutput(dataTable, element);\n",
              "          const docLink = document.createElement('div');\n",
              "          docLink.innerHTML = docLinkHtml;\n",
              "          element.appendChild(docLink);\n",
              "        }\n",
              "      </script>\n",
              "    </div>\n",
              "  </div>\n",
              "  "
            ]
          },
          "metadata": {},
          "execution_count": 1
        }
      ]
    },
    {
      "cell_type": "markdown",
      "source": [
        "## EDA"
      ],
      "metadata": {
        "id": "Kyd9fvikkhyw"
      }
    },
    {
      "cell_type": "markdown",
      "source": [
        "We will be exploring the data to see if a conclusion can be conjured from it."
      ],
      "metadata": {
        "id": "o5b0s4Rs2FPS"
      }
    },
    {
      "cell_type": "markdown",
      "source": [
        "### Attribute 1: Symboling"
      ],
      "metadata": {
        "id": "H8EYEgOoXXCA"
      }
    },
    {
      "cell_type": "markdown",
      "source": [
        "Looking at the bar graph, there seems to be more cars that are deemed to be 'risky' than there are cars deemed to be 'safe'\n",
        "\n",
        "```python\n",
        "# https://archive.ics.uci.edu/ml/datasets/Automobile\n",
        "```"
      ],
      "metadata": {
        "id": "BKIaHasF2WDY"
      }
    },
    {
      "cell_type": "code",
      "source": [
        "plt1_sns = sns.countplot(data=df, x=\"Symboling\").set(title='Symboling', ) # Graph for EDA\n",
        "plt1_sns;\n",
        "print(df[\"Symboling\"].describe()) # Describe to show stats"
      ],
      "metadata": {
        "colab": {
          "base_uri": "https://localhost:8080/",
          "height": 451
        },
        "id": "swjXueZHPe5o",
        "outputId": "6b99158a-5b58-4f82-c404-d797af489da9"
      },
      "execution_count": 2,
      "outputs": [
        {
          "output_type": "stream",
          "name": "stdout",
          "text": [
            "count    205.000000\n",
            "mean       0.834146\n",
            "std        1.245307\n",
            "min       -2.000000\n",
            "25%        0.000000\n",
            "50%        1.000000\n",
            "75%        2.000000\n",
            "max        3.000000\n",
            "Name: Symboling, dtype: float64\n"
          ]
        },
        {
          "output_type": "display_data",
          "data": {
            "text/plain": [
              "<Figure size 432x288 with 1 Axes>"
            ],
            "image/png": "[encoded data removed]"
          },
          "metadata": {
            "needs_background": "light"
          }
        }
      ]
    },
    {
      "cell_type": "markdown",
      "source": [
        "### Attribute 2: Normalized Losses"
      ],
      "metadata": {
        "id": "AwbU0jlRXfzd"
      }
    },
    {
      "cell_type": "code",
      "source": [
        "plt2_sns = sns.countplot(data=df, y=\"NormalizedLosses\").set(title='Normalized Losses') # Graph for EDA\n",
        "plt2_sns;\n",
        "print(df[\"NormalizedLosses\"].describe()) # Describe to show stats"
      ],
      "metadata": {
        "colab": {
          "base_uri": "https://localhost:8080/",
          "height": 382
        },
        "id": "UYdWH1YqTG8n",
        "outputId": "e5d94ad4-f3c5-4caa-a663-b035f5c02073"
      },
      "execution_count": 3,
      "outputs": [
        {
          "output_type": "stream",
          "name": "stdout",
          "text": [
            "count     205\n",
            "unique     52\n",
            "top         ?\n",
            "freq       41\n",
            "Name: NormalizedLosses, dtype: object\n"
          ]
        },
        {
          "output_type": "display_data",
          "data": {
            "text/plain": [
              "<Figure size 432x288 with 1 Axes>"
            ],
            "image/png": "[encoded data removed]"
          },
          "metadata": {
            "needs_background": "light"
          }
        }
      ]
    },
    {
      "cell_type": "markdown",
      "source": [
        "### Attribute 3: Make"
      ],
      "metadata": {
        "id": "HC0MhCspXlyj"
      }
    },
    {
      "cell_type": "markdown",
      "source": [
        "Toyota seems to be the least unique in the data set, while Mercury is the most unique."
      ],
      "metadata": {
        "id": "Zck-AQZm2qdv"
      }
    },
    {
      "cell_type": "code",
      "source": [
        "plt3_sns = sns.countplot(data=df, y=\"Make\").set(title='Make') # Graph for EDA\n",
        "plt3_sns;\n",
        "print(df[\"Make\"].describe()) # Describe to show stats"
      ],
      "metadata": {
        "colab": {
          "base_uri": "https://localhost:8080/",
          "height": 382
        },
        "id": "Qpem-2CsUpPt",
        "outputId": "336e094d-4714-451c-d344-095d768a3b09"
      },
      "execution_count": 4,
      "outputs": [
        {
          "output_type": "stream",
          "name": "stdout",
          "text": [
            "count        205\n",
            "unique        22\n",
            "top       toyota\n",
            "freq          32\n",
            "Name: Make, dtype: object\n"
          ]
        },
        {
          "output_type": "display_data",
          "data": {
            "text/plain": [
              "<Figure size 432x288 with 1 Axes>"
            ],
            "image/png": "[encoded data removed]"
          },
          "metadata": {
            "needs_background": "light"
          }
        }
      ]
    },
    {
      "cell_type": "markdown",
      "source": [
        "### Attribute 4: Fuel Type"
      ],
      "metadata": {
        "id": "fqw-j43RXq-o"
      }
    },
    {
      "cell_type": "markdown",
      "source": [
        "Diesel is beaten by gas in the number of vehicles using a certain fuel type."
      ],
      "metadata": {
        "id": "twvEBWLB22s1"
      }
    },
    {
      "cell_type": "code",
      "source": [
        "plt4_sns = sns.countplot(data=df, y=\"FuelType\").set(title='Fuel Type') # Graph for EDA\n",
        "plt4_sns;\n",
        "print(df[\"FuelType\"].describe()) # Describe to show stats"
      ],
      "metadata": {
        "colab": {
          "base_uri": "https://localhost:8080/",
          "height": 382
        },
        "id": "x07M2C5iVHNx",
        "outputId": "c81c632b-fb78-4c62-87e9-3a48e9414464"
      },
      "execution_count": 5,
      "outputs": [
        {
          "output_type": "stream",
          "name": "stdout",
          "text": [
            "count     205\n",
            "unique      2\n",
            "top       gas\n",
            "freq      185\n",
            "Name: FuelType, dtype: object\n"
          ]
        },
        {
          "output_type": "display_data",
          "data": {
            "text/plain": [
              "<Figure size 432x288 with 1 Axes>"
            ],
            "image/png": "[encoded data removed]"
          },
          "metadata": {
            "needs_background": "light"
          }
        }
      ]
    },
    {
      "cell_type": "markdown",
      "source": [
        "### Attribute 5: Aspiration"
      ],
      "metadata": {
        "id": "mWr_WQS2Xvwu"
      }
    },
    {
      "cell_type": "code",
      "source": [
        "plt5_sns = sns.countplot(data=df, y=\"Aspiration\").set(title='Aspiration') # Graph for EDA\n",
        "plt5_sns;\n",
        "print(df[\"Aspiration\"].describe()) # Describe to show stats"
      ],
      "metadata": {
        "colab": {
          "base_uri": "https://localhost:8080/",
          "height": 382
        },
        "id": "d-BAfPrqVScL",
        "outputId": "8d601154-4ac8-42eb-ee16-eaaeec9e2f68"
      },
      "execution_count": 6,
      "outputs": [
        {
          "output_type": "stream",
          "name": "stdout",
          "text": [
            "count     205\n",
            "unique      2\n",
            "top       std\n",
            "freq      168\n",
            "Name: Aspiration, dtype: object\n"
          ]
        },
        {
          "output_type": "display_data",
          "data": {
            "text/plain": [
              "<Figure size 432x288 with 1 Axes>"
            ],
            "image/png": "[encoded data removed]"
          },
          "metadata": {
            "needs_background": "light"
          }
        }
      ]
    },
    {
      "cell_type": "markdown",
      "source": [
        "### Attribute 6: Number of Doors"
      ],
      "metadata": {
        "id": "_bnpcFasX4cp"
      }
    },
    {
      "cell_type": "markdown",
      "source": [
        "In the data set there seems to be more cars with four doors than two."
      ],
      "metadata": {
        "id": "Rq2VIZAs3DCd"
      }
    },
    {
      "cell_type": "code",
      "source": [
        "plt6_sns = sns.countplot(data=df, x=\"NumOfDoors\").set(title='Number of Doors') # Graph for EDA\n",
        "plt6_sns;\n",
        "print(df[\"NumOfDoors\"].describe()) # Describe to show stats\n",
        "df['NumOfDoors'].value_counts()"
      ],
      "metadata": {
        "colab": {
          "base_uri": "https://localhost:8080/",
          "height": 451
        },
        "id": "0VmxrD3oX9V9",
        "outputId": "87f6bd3e-5a98-4478-b275-6e9499d0098c"
      },
      "execution_count": 40,
      "outputs": [
        {
          "output_type": "stream",
          "name": "stdout",
          "text": [
            "count      205\n",
            "unique       3\n",
            "top       four\n",
            "freq       114\n",
            "Name: NumOfDoors, dtype: object\n"
          ]
        },
        {
          "output_type": "execute_result",
          "data": {
            "text/plain": [
              "four    114\n",
              "two      89\n",
              "?         2\n",
              "Name: NumOfDoors, dtype: int64"
            ]
          },
          "metadata": {},
          "execution_count": 40
        },
        {
          "output_type": "display_data",
          "data": {
            "text/plain": [
              "<Figure size 432x288 with 1 Axes>"
            ],
            "image/png": "[encoded data removed]"
          },
          "metadata": {
            "needs_background": "light"
          }
        }
      ]
    },
    {
      "cell_type": "markdown",
      "source": [
        "### Attribute 7: Body Style"
      ],
      "metadata": {
        "id": "rtqtPEBcYbgN"
      }
    },
    {
      "cell_type": "markdown",
      "source": [
        "Sedans are the most common body for a car in this data set."
      ],
      "metadata": {
        "id": "Ded7JZC53SPb"
      }
    },
    {
      "cell_type": "code",
      "source": [
        "plt7_sns = sns.countplot(data=df, x=\"BodyStyle\").set(title='Body Style') # Graph for EDA\n",
        "plt7_sns;\n",
        "print(df[\"BodyStyle\"].describe()) # Describe to show stats"
      ],
      "metadata": {
        "colab": {
          "base_uri": "https://localhost:8080/",
          "height": 382
        },
        "id": "pRZsrTMnYjeG",
        "outputId": "32b6c397-d107-45d8-c855-04eaa33e1e7f"
      },
      "execution_count": 8,
      "outputs": [
        {
          "output_type": "stream",
          "name": "stdout",
          "text": [
            "count       205\n",
            "unique        5\n",
            "top       sedan\n",
            "freq         96\n",
            "Name: BodyStyle, dtype: object\n"
          ]
        },
        {
          "output_type": "display_data",
          "data": {
            "text/plain": [
              "<Figure size 432x288 with 1 Axes>"
            ],
            "image/png": "[encoded data removed]"
          },
          "metadata": {
            "needs_background": "light"
          }
        }
      ]
    },
    {
      "cell_type": "markdown",
      "source": [
        "### Attribute 8: Drive Wheels"
      ],
      "metadata": {
        "id": "7vBEfm7WYu45"
      }
    },
    {
      "cell_type": "code",
      "source": [
        "plt8_sns = sns.countplot(data=df, x=\"DriveWheels\").set(title='Drive Wheels') # Graph for EDA\n",
        "plt8_sns;\n",
        "print(df[\"DriveWheels\"].describe()) # Describe to show stats"
      ],
      "metadata": {
        "colab": {
          "base_uri": "https://localhost:8080/",
          "height": 382
        },
        "id": "VZRrs5PtZBFo",
        "outputId": "46933502-c17a-49fe-d9f9-bcfafd26df46"
      },
      "execution_count": 9,
      "outputs": [
        {
          "output_type": "stream",
          "name": "stdout",
          "text": [
            "count     205\n",
            "unique      3\n",
            "top       fwd\n",
            "freq      120\n",
            "Name: DriveWheels, dtype: object\n"
          ]
        },
        {
          "output_type": "display_data",
          "data": {
            "text/plain": [
              "<Figure size 432x288 with 1 Axes>"
            ],
            "image/png": "[encoded data removed]"
          },
          "metadata": {
            "needs_background": "light"
          }
        }
      ]
    },
    {
      "cell_type": "markdown",
      "source": [
        "### Attribute 9: Engine Location"
      ],
      "metadata": {
        "id": "738RVA9bZOWs"
      }
    },
    {
      "cell_type": "markdown",
      "source": [
        "Having an engine in the rear of the car seems to be quite rare."
      ],
      "metadata": {
        "id": "X56qks5C3Z97"
      }
    },
    {
      "cell_type": "code",
      "source": [
        "plt9_sns = sns.countplot(data=df, x=\"EngineLocation\").set(title='Engine Location') # Graph for EDA\n",
        "plt9_sns;\n",
        "print(df[\"EngineLocation\"].describe()) # Describe to show stats"
      ],
      "metadata": {
        "colab": {
          "base_uri": "https://localhost:8080/",
          "height": 382
        },
        "id": "yepZzwoBZUUO",
        "outputId": "fb758a2d-26a2-4b40-c7b2-1b9a8bd8b851"
      },
      "execution_count": 10,
      "outputs": [
        {
          "output_type": "stream",
          "name": "stdout",
          "text": [
            "count       205\n",
            "unique        2\n",
            "top       front\n",
            "freq        202\n",
            "Name: EngineLocation, dtype: object\n"
          ]
        },
        {
          "output_type": "display_data",
          "data": {
            "text/plain": [
              "<Figure size 432x288 with 1 Axes>"
            ],
            "image/png": "[encoded data removed]"
          },
          "metadata": {
            "needs_background": "light"
          }
        }
      ]
    },
    {
      "cell_type": "markdown",
      "source": [
        "### Attribute 10: Wheel Base"
      ],
      "metadata": {
        "id": "YCLTPRgBnHFI"
      }
    },
    {
      "cell_type": "code",
      "source": [
        "plt10_sns = sns.histplot(data=df, x=\"WheelBase\").set(title='Wheel Base') # Graph for EDA\n",
        "plt10_sns;\n",
        "print(df[\"WheelBase\"].describe()) # Describe to show stats"
      ],
      "metadata": {
        "colab": {
          "base_uri": "https://localhost:8080/",
          "height": 451
        },
        "id": "SMKEYi1bnZak",
        "outputId": "1e1a06ef-babe-4fe9-94b8-dace813663d1"
      },
      "execution_count": 11,
      "outputs": [
        {
          "output_type": "stream",
          "name": "stdout",
          "text": [
            "count    205.000000\n",
            "mean      98.756585\n",
            "std        6.021776\n",
            "min       86.600000\n",
            "25%       94.500000\n",
            "50%       97.000000\n",
            "75%      102.400000\n",
            "max      120.900000\n",
            "Name: WheelBase, dtype: float64\n"
          ]
        },
        {
          "output_type": "display_data",
          "data": {
            "text/plain": [
              "<Figure size 432x288 with 1 Axes>"
            ],
            "image/png": "[encoded data removed]"
          },
          "metadata": {
            "needs_background": "light"
          }
        }
      ]
    },
    {
      "cell_type": "markdown",
      "source": [
        "### Attribute 11: Length\n"
      ],
      "metadata": {
        "id": "rYkt0ASa2UZQ"
      }
    },
    {
      "cell_type": "code",
      "source": [
        "plt11_sns = sns.histplot(data=df, x=\"Length\").set(title='Length') # Graph for EDA\n",
        "plt11_sns;\n",
        "print(df[\"Length\"].describe()) # Describe to show stats"
      ],
      "metadata": {
        "colab": {
          "base_uri": "https://localhost:8080/",
          "height": 451
        },
        "id": "LY30bVw22eNv",
        "outputId": "d177fc1c-7a4e-46e3-bd86-91bf691e2371"
      },
      "execution_count": 12,
      "outputs": [
        {
          "output_type": "stream",
          "name": "stdout",
          "text": [
            "count    205.000000\n",
            "mean     174.049268\n",
            "std       12.337289\n",
            "min      141.100000\n",
            "25%      166.300000\n",
            "50%      173.200000\n",
            "75%      183.100000\n",
            "max      208.100000\n",
            "Name: Length, dtype: float64\n"
          ]
        },
        {
          "output_type": "display_data",
          "data": {
            "text/plain": [
              "<Figure size 432x288 with 1 Axes>"
            ],
            "image/png": "[encoded data removed]"
          },
          "metadata": {
            "needs_background": "light"
          }
        }
      ]
    },
    {
      "cell_type": "markdown",
      "source": [
        "### Attribute 12: Width"
      ],
      "metadata": {
        "id": "YwpQwX0D3ZdB"
      }
    },
    {
      "cell_type": "code",
      "source": [
        "plt12_sns = sns.histplot(data=df, x=\"Width\").set(title='Width') # Graph for EDA\n",
        "plt12_sns;\n",
        "print(df[\"Width\"].describe()) # Describe to show stats"
      ],
      "metadata": {
        "colab": {
          "base_uri": "https://localhost:8080/",
          "height": 451
        },
        "id": "hejYkk1F3XjN",
        "outputId": "d3d26f22-3e6e-4274-e337-60615d2f052b"
      },
      "execution_count": 13,
      "outputs": [
        {
          "output_type": "stream",
          "name": "stdout",
          "text": [
            "count    205.000000\n",
            "mean      65.907805\n",
            "std        2.145204\n",
            "min       60.300000\n",
            "25%       64.100000\n",
            "50%       65.500000\n",
            "75%       66.900000\n",
            "max       72.300000\n",
            "Name: Width, dtype: float64\n"
          ]
        },
        {
          "output_type": "display_data",
          "data": {
            "text/plain": [
              "<Figure size 432x288 with 1 Axes>"
            ],
            "image/png": "[encoded data removed]"
          },
          "metadata": {
            "needs_background": "light"
          }
        }
      ]
    },
    {
      "cell_type": "markdown",
      "source": [
        "### Attribute 13: Height"
      ],
      "metadata": {
        "id": "wBv6PXxZ3pHH"
      }
    },
    {
      "cell_type": "code",
      "source": [
        "plt13_sns = sns.histplot(data=df, x=\"Height\").set(title='Height') # Graph for EDA\n",
        "plt13_sns;\n",
        "print(df[\"Height\"].describe()) # Describe to show stats"
      ],
      "metadata": {
        "colab": {
          "base_uri": "https://localhost:8080/",
          "height": 451
        },
        "id": "e1uQmQa23rRT",
        "outputId": "d056fe03-76e5-490c-8141-3f300fbe0e19"
      },
      "execution_count": 14,
      "outputs": [
        {
          "output_type": "stream",
          "name": "stdout",
          "text": [
            "count    205.000000\n",
            "mean      53.724878\n",
            "std        2.443522\n",
            "min       47.800000\n",
            "25%       52.000000\n",
            "50%       54.100000\n",
            "75%       55.500000\n",
            "max       59.800000\n",
            "Name: Height, dtype: float64\n"
          ]
        },
        {
          "output_type": "display_data",
          "data": {
            "text/plain": [
              "<Figure size 432x288 with 1 Axes>"
            ],
            "image/png": "[encoded data removed]"
          },
          "metadata": {
            "needs_background": "light"
          }
        }
      ]
    },
    {
      "cell_type": "markdown",
      "source": [
        "### Attribute 14: Curb Weight"
      ],
      "metadata": {
        "id": "ebDbrv4834Ic"
      }
    },
    {
      "cell_type": "code",
      "source": [
        "plt14_sns = sns.histplot(data=df, x=\"CurbWeight\").set(title='Curb Weight') # Graph for EDA\n",
        "plt14_sns;\n",
        "print(df[\"CurbWeight\"].describe()) # Describe to show stats"
      ],
      "metadata": {
        "colab": {
          "base_uri": "https://localhost:8080/",
          "height": 451
        },
        "id": "qP944lnO351f",
        "outputId": "9c75a0b6-7621-4e6a-e9ba-a260feccbb88"
      },
      "execution_count": 15,
      "outputs": [
        {
          "output_type": "stream",
          "name": "stdout",
          "text": [
            "count     205.000000\n",
            "mean     2555.565854\n",
            "std       520.680204\n",
            "min      1488.000000\n",
            "25%      2145.000000\n",
            "50%      2414.000000\n",
            "75%      2935.000000\n",
            "max      4066.000000\n",
            "Name: CurbWeight, dtype: float64\n"
          ]
        },
        {
          "output_type": "display_data",
          "data": {
            "text/plain": [
              "<Figure size 432x288 with 1 Axes>"
            ],
            "image/png": "[encoded data removed]"
          },
          "metadata": {
            "needs_background": "light"
          }
        }
      ]
    },
    {
      "cell_type": "markdown",
      "source": [
        "### Attribute 15: Engine Type"
      ],
      "metadata": {
        "id": "gSbQgnSA4QLD"
      }
    },
    {
      "cell_type": "code",
      "source": [
        "plt15_sns = sns.countplot(data=df, x=\"EngineType\").set(title='Engine Type') # Graph for EDA\n",
        "plt15_sns;\n",
        "print(df[\"EngineType\"].describe()) # Describe to show stats"
      ],
      "metadata": {
        "colab": {
          "base_uri": "https://localhost:8080/",
          "height": 382
        },
        "id": "hZTbHcl94Uh2",
        "outputId": "11ca06b2-93bf-4ced-9e5f-cf2ae348c5a2"
      },
      "execution_count": 16,
      "outputs": [
        {
          "output_type": "stream",
          "name": "stdout",
          "text": [
            "count     205\n",
            "unique      7\n",
            "top       ohc\n",
            "freq      148\n",
            "Name: EngineType, dtype: object\n"
          ]
        },
        {
          "output_type": "display_data",
          "data": {
            "text/plain": [
              "<Figure size 432x288 with 1 Axes>"
            ],
            "image/png": "[encoded data removed]"
          },
          "metadata": {
            "needs_background": "light"
          }
        }
      ]
    },
    {
      "cell_type": "markdown",
      "source": [
        "### Attribute 16: Number of Cylinders"
      ],
      "metadata": {
        "id": "Te-Md6jC4jEJ"
      }
    },
    {
      "cell_type": "code",
      "source": [
        "plt16_sns = sns.countplot(data=df, x=\"NumOfCylinders\").set(title='Number of Cylinders') # Graph for EDA\n",
        "plt16_sns;\n",
        "print(df[\"NumOfCylinders\"].describe()) # Describe to show stats"
      ],
      "metadata": {
        "colab": {
          "base_uri": "https://localhost:8080/",
          "height": 382
        },
        "id": "hS7QCXUp4nCy",
        "outputId": "2015b785-8f1a-4171-86bb-48c202886cee"
      },
      "execution_count": 17,
      "outputs": [
        {
          "output_type": "stream",
          "name": "stdout",
          "text": [
            "count      205\n",
            "unique       7\n",
            "top       four\n",
            "freq       159\n",
            "Name: NumOfCylinders, dtype: object\n"
          ]
        },
        {
          "output_type": "display_data",
          "data": {
            "text/plain": [
              "<Figure size 432x288 with 1 Axes>"
            ],
            "image/png": "[encoded data removed]"
          },
          "metadata": {
            "needs_background": "light"
          }
        }
      ]
    },
    {
      "cell_type": "markdown",
      "source": [
        "### Attribute 17: Engine Size"
      ],
      "metadata": {
        "id": "A23ECM3K4ye7"
      }
    },
    {
      "cell_type": "code",
      "source": [
        "plt17_sns = sns.histplot(data=df, x=\"EngineSize\").set(title='Engine Size') # Graph for EDA\n",
        "plt17_sns;\n",
        "print(df[\"EngineSize\"].describe()) # Describe to show stats"
      ],
      "metadata": {
        "colab": {
          "base_uri": "https://localhost:8080/",
          "height": 451
        },
        "id": "idHsmngY44Z6",
        "outputId": "715cd537-ef74-423a-e630-f4547d131f70"
      },
      "execution_count": 18,
      "outputs": [
        {
          "output_type": "stream",
          "name": "stdout",
          "text": [
            "count    205.000000\n",
            "mean     126.907317\n",
            "std       41.642693\n",
            "min       61.000000\n",
            "25%       97.000000\n",
            "50%      120.000000\n",
            "75%      141.000000\n",
            "max      326.000000\n",
            "Name: EngineSize, dtype: float64\n"
          ]
        },
        {
          "output_type": "display_data",
          "data": {
            "text/plain": [
              "<Figure size 432x288 with 1 Axes>"
            ],
            "image/png": "[encoded data removed]"
          },
          "metadata": {
            "needs_background": "light"
          }
        }
      ]
    },
    {
      "cell_type": "markdown",
      "source": [
        "### Attribute 18: Fuel System"
      ],
      "metadata": {
        "id": "o8SxFEZX5ef5"
      }
    },
    {
      "cell_type": "code",
      "source": [
        "plt18_sns = sns.countplot(data=df, x=\"FuelSystem\").set(title='Fuel System') # Graph for EDA\n",
        "plt18_sns;\n",
        "print(df[\"FuelSystem\"].describe()) # Describe to show stats"
      ],
      "metadata": {
        "colab": {
          "base_uri": "https://localhost:8080/",
          "height": 382
        },
        "id": "xlDefF5j5jgF",
        "outputId": "286df15a-b16a-42b4-80a2-574a7bdf6a94"
      },
      "execution_count": 19,
      "outputs": [
        {
          "output_type": "stream",
          "name": "stdout",
          "text": [
            "count      205\n",
            "unique       8\n",
            "top       mpfi\n",
            "freq        94\n",
            "Name: FuelSystem, dtype: object\n"
          ]
        },
        {
          "output_type": "display_data",
          "data": {
            "text/plain": [
              "<Figure size 432x288 with 1 Axes>"
            ],
            "image/png": "[encoded data removed]"
          },
          "metadata": {
            "needs_background": "light"
          }
        }
      ]
    },
    {
      "cell_type": "markdown",
      "source": [
        "### Attribute 19: Bore"
      ],
      "metadata": {
        "id": "yJRNb__L5-7l"
      }
    },
    {
      "cell_type": "code",
      "source": [
        "plt19_sns = sns.histplot(data=df, y=\"Bore\").set(title='Bore') # Graph for EDA\n",
        "plt19_sns;\n",
        "print(df[\"Bore\"].describe()) # Describe to show stats"
      ],
      "metadata": {
        "colab": {
          "base_uri": "https://localhost:8080/",
          "height": 382
        },
        "id": "Tyme2Yun6Atn",
        "outputId": "91dcfbc1-4988-4ac6-89df-983b89b9273b"
      },
      "execution_count": 20,
      "outputs": [
        {
          "output_type": "stream",
          "name": "stdout",
          "text": [
            "count      205\n",
            "unique      39\n",
            "top       3.62\n",
            "freq        23\n",
            "Name: Bore, dtype: object\n"
          ]
        },
        {
          "output_type": "display_data",
          "data": {
            "text/plain": [
              "<Figure size 432x288 with 1 Axes>"
            ],
            "image/png": "[encoded data removed]"
          },
          "metadata": {
            "needs_background": "light"
          }
        }
      ]
    },
    {
      "cell_type": "markdown",
      "source": [
        "### Attribute 20: Stroke"
      ],
      "metadata": {
        "id": "t-O2gIP36nFJ"
      }
    },
    {
      "cell_type": "code",
      "source": [
        "plt20_sns = sns.countplot(data=df, y=\"Stroke\").set(title='Stroke') # Graph for EDA\n",
        "plt20_sns;\n",
        "print(df[\"Stroke\"].describe()) # Describe to show stats"
      ],
      "metadata": {
        "colab": {
          "base_uri": "https://localhost:8080/",
          "height": 382
        },
        "id": "4CV-oHK06s9p",
        "outputId": "c8fda199-77ff-4172-da1d-d5b397c0d648"
      },
      "execution_count": 21,
      "outputs": [
        {
          "output_type": "stream",
          "name": "stdout",
          "text": [
            "count     205\n",
            "unique     37\n",
            "top       3.4\n",
            "freq       20\n",
            "Name: Stroke, dtype: object\n"
          ]
        },
        {
          "output_type": "display_data",
          "data": {
            "text/plain": [
              "<Figure size 432x288 with 1 Axes>"
            ],
            "image/png": "[encoded data removed]"
          },
          "metadata": {
            "needs_background": "light"
          }
        }
      ]
    },
    {
      "cell_type": "markdown",
      "source": [
        "### Attribute 21: Compression Ratio"
      ],
      "metadata": {
        "id": "SR3tYKcZ68v9"
      }
    },
    {
      "cell_type": "code",
      "source": [
        "plt21_sns = sns.countplot(data=df, y=\"CompressionRatio\").set(title='Compression Ratio') # Graph for EDA\n",
        "plt21_sns;\n",
        "print(df[\"CompressionRatio\"].describe()) # Describe to show stats"
      ],
      "metadata": {
        "colab": {
          "base_uri": "https://localhost:8080/",
          "height": 451
        },
        "id": "zhks9cBo7CCr",
        "outputId": "f236b7f0-317e-467e-9125-19d6e8b4834f"
      },
      "execution_count": 22,
      "outputs": [
        {
          "output_type": "stream",
          "name": "stdout",
          "text": [
            "count    205.000000\n",
            "mean      10.142537\n",
            "std        3.972040\n",
            "min        7.000000\n",
            "25%        8.600000\n",
            "50%        9.000000\n",
            "75%        9.400000\n",
            "max       23.000000\n",
            "Name: CompressionRatio, dtype: float64\n"
          ]
        },
        {
          "output_type": "display_data",
          "data": {
            "text/plain": [
              "<Figure size 432x288 with 1 Axes>"
            ],
            "image/png": "[encoded data removed]"
          },
          "metadata": {
            "needs_background": "light"
          }
        }
      ]
    },
    {
      "cell_type": "markdown",
      "source": [
        "### Attribute 22: Horsepower"
      ],
      "metadata": {
        "id": "CfkXFy4K7ScA"
      }
    },
    {
      "cell_type": "code",
      "source": [
        "plt22_sns = sns.countplot(data=df, y=\"Horsepower\").set(title='Horsepower') # Graph for EDA\n",
        "plt22_sns;\n",
        "print(df[\"Horsepower\"].describe()) # Describe to show stats"
      ],
      "metadata": {
        "colab": {
          "base_uri": "https://localhost:8080/",
          "height": 382
        },
        "id": "Z8flNqBD7VPR",
        "outputId": "489de766-20e4-470f-b8bf-c0dfca54cde8"
      },
      "execution_count": 23,
      "outputs": [
        {
          "output_type": "stream",
          "name": "stdout",
          "text": [
            "count     205\n",
            "unique     60\n",
            "top        68\n",
            "freq       19\n",
            "Name: Horsepower, dtype: object\n"
          ]
        },
        {
          "output_type": "display_data",
          "data": {
            "text/plain": [
              "<Figure size 432x288 with 1 Axes>"
            ],
            "image/png": "[encoded data removed]"
          },
          "metadata": {
            "needs_background": "light"
          }
        }
      ]
    },
    {
      "cell_type": "markdown",
      "source": [
        "### Attribute 23: Peak RPM"
      ],
      "metadata": {
        "id": "qJiiu8nG7oKd"
      }
    },
    {
      "cell_type": "code",
      "source": [
        "plt23_sns = sns.countplot(data=df, y=\"PeakRPM\").set(title='Peak RPM') # Graph for EDA\n",
        "plt23_sns;\n",
        "print(df[\"PeakRPM\"].describe()) # Describe to show stats"
      ],
      "metadata": {
        "colab": {
          "base_uri": "https://localhost:8080/",
          "height": 382
        },
        "id": "xWBDm1S076FW",
        "outputId": "347651cd-68d3-4116-df1e-f6a406c4268c"
      },
      "execution_count": 24,
      "outputs": [
        {
          "output_type": "stream",
          "name": "stdout",
          "text": [
            "count      205\n",
            "unique      24\n",
            "top       5500\n",
            "freq        37\n",
            "Name: PeakRPM, dtype: object\n"
          ]
        },
        {
          "output_type": "display_data",
          "data": {
            "text/plain": [
              "<Figure size 432x288 with 1 Axes>"
            ],
            "image/png": "[encoded data removed]"
          },
          "metadata": {
            "needs_background": "light"
          }
        }
      ]
    },
    {
      "cell_type": "markdown",
      "source": [
        "### Attribute 24: City MPG"
      ],
      "metadata": {
        "id": "aKdDHOSz8IW0"
      }
    },
    {
      "cell_type": "code",
      "source": [
        "plt24_sns = sns.histplot(data=df, x=\"CityMPG\").set(title='City MPG') # Graph for EDA\n",
        "plt24_sns;\n",
        "print(df[\"CityMPG\"].describe()) # Describe to show stats"
      ],
      "metadata": {
        "colab": {
          "base_uri": "https://localhost:8080/",
          "height": 451
        },
        "id": "HSbVbSZo8Rh2",
        "outputId": "06b35241-be80-492b-d12c-4dcb502108e5"
      },
      "execution_count": 25,
      "outputs": [
        {
          "output_type": "stream",
          "name": "stdout",
          "text": [
            "count    205.000000\n",
            "mean      25.219512\n",
            "std        6.542142\n",
            "min       13.000000\n",
            "25%       19.000000\n",
            "50%       24.000000\n",
            "75%       30.000000\n",
            "max       49.000000\n",
            "Name: CityMPG, dtype: float64\n"
          ]
        },
        {
          "output_type": "display_data",
          "data": {
            "text/plain": [
              "<Figure size 432x288 with 1 Axes>"
            ],
            "image/png": "[encoded data removed]"
          },
          "metadata": {
            "needs_background": "light"
          }
        }
      ]
    },
    {
      "cell_type": "markdown",
      "source": [
        "### Attribute 25: Highway MPG"
      ],
      "metadata": {
        "id": "D7l1snrL8nGA"
      }
    },
    {
      "cell_type": "code",
      "source": [
        "plt25_sns = sns.histplot(data=df, x=\"HighwayMPG\").set(title='Highway MPG') # Graph for EDA\n",
        "plt25_sns;\n",
        "print(df[\"HighwayMPG\"].describe()) # Describe to show stats"
      ],
      "metadata": {
        "colab": {
          "base_uri": "https://localhost:8080/",
          "height": 451
        },
        "id": "LlO9nynv8rBF",
        "outputId": "cd60aec3-67e5-4fdb-82ea-e29dce624854"
      },
      "execution_count": 26,
      "outputs": [
        {
          "output_type": "stream",
          "name": "stdout",
          "text": [
            "count    205.000000\n",
            "mean      30.751220\n",
            "std        6.886443\n",
            "min       16.000000\n",
            "25%       25.000000\n",
            "50%       30.000000\n",
            "75%       34.000000\n",
            "max       54.000000\n",
            "Name: HighwayMPG, dtype: float64\n"
          ]
        },
        {
          "output_type": "display_data",
          "data": {
            "text/plain": [
              "<Figure size 432x288 with 1 Axes>"
            ],
            "image/png": "[encoded data removed]"
          },
          "metadata": {
            "needs_background": "light"
          }
        }
      ]
    },
    {
      "cell_type": "markdown",
      "source": [
        "### Attribute 26: Price"
      ],
      "metadata": {
        "id": "yqLwyP6E80MD"
      }
    },
    {
      "cell_type": "code",
      "source": [
        "plt26_sns = sns.countplot(data=df, y=\"Price\").set(title='Price') # Graph for EDA\n",
        "plt26_sns;\n",
        "print(df[\"Price\"].describe()) # Describe to show stats\n",
        "df['Price'].value_counts()"
      ],
      "metadata": {
        "colab": {
          "base_uri": "https://localhost:8080/",
          "height": 590
        },
        "id": "JnznK7Cs85p-",
        "outputId": "74928d88-5f10-47a8-d6db-9a2c5a4fbcff"
      },
      "execution_count": 43,
      "outputs": [
        {
          "output_type": "stream",
          "name": "stdout",
          "text": [
            "count     205\n",
            "unique    187\n",
            "top         ?\n",
            "freq        4\n",
            "Name: Price, dtype: object\n"
          ]
        },
        {
          "output_type": "execute_result",
          "data": {
            "text/plain": [
              "?        4\n",
              "8921     2\n",
              "18150    2\n",
              "8845     2\n",
              "8495     2\n",
              "        ..\n",
              "45400    1\n",
              "16503    1\n",
              "5389     1\n",
              "6189     1\n",
              "22625    1\n",
              "Name: Price, Length: 187, dtype: int64"
            ]
          },
          "metadata": {},
          "execution_count": 43
        },
        {
          "output_type": "display_data",
          "data": {
            "text/plain": [
              "<Figure size 432x288 with 1 Axes>"
            ],
            "image/png": "[encoded data removed]"
          },
          "metadata": {
            "needs_background": "light"
          }
        }
      ]
    },
    {
      "cell_type": "markdown",
      "source": [
        "### Conclusions:"
      ],
      "metadata": {
        "id": "Zbi35czuihm2"
      }
    },
    {
      "cell_type": "markdown",
      "source": [
        "A couple of observations are that the majority of the vehicles run on gas instead of diesel, more cars are deemed to be 'risky' than cars are deemed to be 'safe', also the fwd seems to be the more common type of vehicle with rwd and 4wd."
      ],
      "metadata": {
        "id": "n1yXGl0Ailbk"
      }
    },
    {
      "cell_type": "markdown",
      "source": [
        "## Questions"
      ],
      "metadata": {
        "id": "NzxjGENjlYUs"
      }
    },
    {
      "cell_type": "markdown",
      "source": [
        "**Q1**: \n",
        "\n",
        "---\n",
        "\n",
        "The numerical variables within the data set appear to require the use of feature scaling methods to prepare them for use within a machine learning algorithm.\n",
        "\n",
        "Variables/Attributes that require the use of feature scaling methods are CityMPG, Highway MPG, Compression Ratio, and Symboling. If those variables/attributes are compared with others, they would be represented incorrectly for having numbers so low."
      ],
      "metadata": {
        "id": "7Tm9-4QllcOb"
      }
    },
    {
      "cell_type": "markdown",
      "source": [
        "**Q2**: \n",
        "\n",
        "---\n",
        "\n",
        "\n",
        "Consider the NumberOfDoors and Price attributes/variables from the data set.\n",
        "\n",
        "The missing data values (the ones given a ?) occur within each of these attributes, the frequency of the question mark for NumberOfDoors was 2 and the for Price it was 4."
      ],
      "metadata": {
        "id": "mELLK6PZ-_Ih"
      }
    },
    {
      "cell_type": "code",
      "source": [
        "df_copy1 = df.copy()\n",
        "df_copy1[\"Price\"].replace({\"?\", np.nan}, inplace=True)\n",
        "df_copy1[\"Price\"].fillna(method=\"ffill\", limit=1, inplace=True)\n",
        "df_copy1[\"Price\"]=df_copy1[\"Price\"].apply(pd.to_numeric, errors='coerce') # this was a lifesaver https://stackoverflow.com/questions/52240694/python-pandas-column-type-casting-with-astype-is-not-working\n",
        "print(df_copy1[\"Price\"].describe())\n",
        "\n",
        "df_copy1[\"NumOfDoors\"].replace({\"?\", np.nan}, inplace=True)\n",
        "df_copy1[\"NumOfDoors\"].fillna(method=\"ffill\", limit=1, inplace=True)\n",
        "pltq2_sns = sns.boxplot(data=df_copy1, x=\"NumOfDoors\", y=\"Price\").set(title='Price and Number of Doors') # Graph for question 2"
      ],
      "metadata": {
        "colab": {
          "base_uri": "https://localhost:8080/",
          "height": 451
        },
        "id": "sQCfvQBPEbQR",
        "outputId": "318ccb74-a653-4710-9bbb-0e8997bb2975"
      },
      "execution_count": 165,
      "outputs": [
        {
          "output_type": "stream",
          "name": "stdout",
          "text": [
            "count      201.000000\n",
            "mean     13207.129353\n",
            "std       7947.066342\n",
            "min       5118.000000\n",
            "25%       7775.000000\n",
            "50%      10295.000000\n",
            "75%      16500.000000\n",
            "max      45400.000000\n",
            "Name: Price, dtype: float64\n"
          ]
        },
        {
          "output_type": "display_data",
          "data": {
            "text/plain": [
              "<Figure size 432x288 with 1 Axes>"
            ],
            "image/png": "[encoded data removed]"
          },
          "metadata": {
            "needs_background": "light"
          }
        }
      ]
    },
    {
      "cell_type": "markdown",
      "source": [
        "For the variable 'Price', the '?' value was replaced with the price value of the row in front of it, the only way this could really mess up the data is if the row in front has the an outlier as its value. After that was done the datatype was altered from object to a float, it was unable to be done before but is able to be done after modifying the data set.\n",
        "\n",
        "For the variable 'NumOfDoors' or number of doors, the '?' value was not replaced due to not being able to find a way to do it. An attempt to turn them into integer or floats was made and was unsuccessful."
      ],
      "metadata": {
        "id": "HDKagUhlQn4o"
      }
    },
    {
      "cell_type": "markdown",
      "source": [
        "**Q3**: \n",
        "\n",
        "---\n",
        "\n",
        "Consider the engine-size and stroke variables from the data set and describe the specific feature scaling method used.\n",
        "\n",
        "For the variables 'EngineSize' and 'Stroke' I used normal distribution to get them into scaled properly. The result of the scaling made the placement of the data in the graph less erratic. "
      ],
      "metadata": {
        "id": "6HqrDw0gTprW"
      }
    },
    {
      "cell_type": "code",
      "source": [
        "from sklearn.preprocessing import StandardScaler\n",
        "from sklearn.model_selection import train_test_split\n",
        "from sklearn.metrics import accuracy_score\n",
        "from sklearn.preprocessing import Normalizer\n",
        "\n",
        "\n",
        "df_copy1[\"Stroke\"].replace({\"?\", np.nan}, inplace=True)\n",
        "df_copy1[\"Stroke\"].fillna(method=\"ffill\", limit=1, inplace=True)\n",
        "df_copy1[\"Stroke\"]=df_copy1[\"Stroke\"].apply(pd.to_numeric, errors='coerce') # this was a lifesaver https://stackoverflow.com/questions/52240694/python-pandas-column-type-casting-with-astype-is-not-working\n",
        "\n",
        "scaler = StandardScaler()\n",
        "scale=np.array(df_copy1[\"EngineSize\"])\n",
        "scale=scale.reshape(1,-1)\n",
        "normalizer = Normalizer(norm=\"l1\")\n",
        "normalized_features = normalizer.fit_transform(scale)\n",
        "#scaler_fitted = scaler.fit_transform(scale)\n",
        "print(normalized_features)\n",
        "\n",
        "\n",
        "# scaler = StandardScaler()\n",
        "# scale=np.array(df_copy1[\"Stroke\"])\n",
        "# scale=scale.reshape(1,-1)\n",
        "# normalizer = Normalizer(norm=\"l1\")\n",
        "# normalized_features = normalizer.fit_transform(scale)\n",
        "# scaler_fitted = scaler.fit_transform(scale)\n",
        "# print(normalized_features)"
      ],
      "metadata": {
        "colab": {
          "base_uri": "https://localhost:8080/"
        },
        "id": "mcIsLRaSUFpO",
        "outputId": "9e4647a7-92fe-409c-b9ea-6aeb9bc00d57"
      },
      "execution_count": 191,
      "outputs": [
        {
          "output_type": "stream",
          "name": "stdout",
          "text": [
            "[[0.00499692 0.00499692 0.00584256 0.00418973 0.00522755 0.00522755\n",
            "  0.00522755 0.00522755 0.00503536 0.00503536 0.00415129 0.00415129\n",
            "  0.00630381 0.00630381 0.00630381 0.00803352 0.00803352 0.00803352\n",
            "  0.00234471 0.00345941 0.00345941 0.00345941 0.00345941 0.00376691\n",
            "  0.00345941 0.00345941 0.00345941 0.00376691 0.00468942 0.00599631\n",
            "  0.00353629 0.00353629 0.00303659 0.00353629 0.00353629 0.00353629\n",
            "  0.00353629 0.00422817 0.00422817 0.00422817 0.00422817 0.00422817\n",
            "  0.00422817 0.00426661 0.00345941 0.00345941 0.00457411 0.00991697\n",
            "  0.00991697 0.01253075 0.00349785 0.00349785 0.00349785 0.00349785\n",
            "  0.00349785 0.00269065 0.00269065 0.00269065 0.00307503 0.00468942\n",
            "  0.00468942 0.00468942 0.00468942 0.00468942 0.00468942 0.0053813\n",
            "  0.00515068 0.00703413 0.00703413 0.00703413 0.00703413 0.00899446\n",
            "  0.00899446 0.01183887 0.01168512 0.0053813  0.00353629 0.00353629\n",
            "  0.00353629 0.00376691 0.00422817 0.00468942 0.00599631 0.00599631\n",
            "  0.00599631 0.00468942 0.00468942 0.00422817 0.00422817 0.00372847\n",
            "  0.0039591  0.00372847 0.00372847 0.00372847 0.00372847 0.00372847\n",
            "  0.00372847 0.00372847 0.00372847 0.00461255 0.00461255 0.00695726\n",
            "  0.00695726 0.00695726 0.00695726 0.00695726 0.00695726 0.00461255\n",
            "  0.00584256 0.00461255 0.00584256 0.00461255 0.00584256 0.00461255\n",
            "  0.00584256 0.00461255 0.00584256 0.00515068 0.00345941 0.00376691\n",
            "  0.00345941 0.00345941 0.00376691 0.00468942 0.00599631 0.00580412\n",
            "  0.00745695 0.00745695 0.00745695 0.00780289 0.0050738  0.0050738\n",
            "  0.00465098 0.00465098 0.00465098 0.00465098 0.00465098 0.00465098\n",
            "  0.00372847 0.00415129 0.00415129 0.00415129 0.00415129 0.00415129\n",
            "  0.00415129 0.00415129 0.00415129 0.00415129 0.00415129 0.00415129\n",
            "  0.00353629 0.00353629 0.00353629 0.00353629 0.00353629 0.00353629\n",
            "  0.00376691 0.00376691 0.00422817 0.00422817 0.00376691 0.00376691\n",
            "  0.00376691 0.00376691 0.00376691 0.00376691 0.00376691 0.00561193\n",
            "  0.00561193 0.00561193 0.00561193 0.00561193 0.00561193 0.00468942\n",
            "  0.00422817 0.00468942 0.00468942 0.00468942 0.00657288 0.00657288\n",
            "  0.00657288 0.0061885  0.00372847 0.00418973 0.00372847 0.00418973\n",
            "  0.00418973 0.00372847 0.00418973 0.00418973 0.00418973 0.00522755\n",
            "  0.00372847 0.00418973 0.00541974 0.00541974 0.00541974 0.00541974\n",
            "  0.00499692 0.00499692 0.00541974 0.00541974 0.00664975 0.00557349\n",
            "  0.00541974]]\n"
          ]
        }
      ]
    },
    {
      "cell_type": "markdown",
      "source": [
        "These 2 charts are for before the modification of the data"
      ],
      "metadata": {
        "id": "6TkIckrSzaXK"
      }
    },
    {
      "cell_type": "code",
      "source": [
        "pltq3_2_sns = sns.histplot(data=df, x=\"EngineSize\", y=\"Stroke\").set(title='Engine Size and Stroke') # Graph for EDA"
      ],
      "metadata": {
        "colab": {
          "base_uri": "https://localhost:8080/",
          "height": 295
        },
        "id": "4A9bOafauot4",
        "outputId": "0f2d84ca-2af0-4c74-8b00-47771b29b96d"
      },
      "execution_count": 186,
      "outputs": [
        {
          "output_type": "display_data",
          "data": {
            "text/plain": [
              "<Figure size 432x288 with 1 Axes>"
            ],
            "image/png": "[encoded data removed]"
          },
          "metadata": {
            "needs_background": "light"
          }
        }
      ]
    },
    {
      "cell_type": "code",
      "source": [
        "pltq3_2_sns = sns.boxplot(data=df, x=\"EngineSize\", y=\"Stroke\").set(title='Engine Size and Stroke') # Graph for EDA"
      ],
      "metadata": {
        "colab": {
          "base_uri": "https://localhost:8080/",
          "height": 295
        },
        "id": "ixSzUm3AwakM",
        "outputId": "15661ec3-9874-4e0e-d92e-18203796669c"
      },
      "execution_count": 187,
      "outputs": [
        {
          "output_type": "display_data",
          "data": {
            "text/plain": [
              "<Figure size 432x288 with 1 Axes>"
            ],
            "image/png": "[encoded data removed]"
          },
          "metadata": {
            "needs_background": "light"
          }
        }
      ]
    },
    {
      "cell_type": "markdown",
      "source": [
        "These 2 charts are for after the modification of the data"
      ],
      "metadata": {
        "id": "fH1gFD-dzib4"
      }
    },
    {
      "cell_type": "code",
      "source": [
        "pltq3_2_sns = sns.histplot(data=df_copy1, x=\"EngineSize\", y=\"Stroke\").set(title='Engine Size and Stroke after Modification') # Graph for EDA"
      ],
      "metadata": {
        "colab": {
          "base_uri": "https://localhost:8080/",
          "height": 295
        },
        "id": "J3Bq4P5nweJt",
        "outputId": "1d4ca400-2e61-4f2f-e136-228c1cf7f1ed"
      },
      "execution_count": 192,
      "outputs": [
        {
          "output_type": "display_data",
          "data": {
            "text/plain": [
              "<Figure size 432x288 with 1 Axes>"
            ],
            "image/png": "[encoded data removed]"
          },
          "metadata": {
            "needs_background": "light"
          }
        }
      ]
    },
    {
      "cell_type": "code",
      "source": [
        "pltq3_2_sns = sns.boxplot(data=df_copy1, x=\"EngineSize\", y=\"Stroke\").set(title='Engine Size and Stroke after Modification') # Graph for EDA"
      ],
      "metadata": {
        "colab": {
          "base_uri": "https://localhost:8080/",
          "height": 295
        },
        "id": "0wWhuCoqwgV2",
        "outputId": "4e9384b7-6aeb-4ec6-92cb-d1dd28419cb8"
      },
      "execution_count": 193,
      "outputs": [
        {
          "output_type": "display_data",
          "data": {
            "text/plain": [
              "<Figure size 432x288 with 1 Axes>"
            ],
            "image/png": "[encoded data removed]"
          },
          "metadata": {
            "needs_background": "light"
          }
        }
      ]
    },
    {
      "cell_type": "markdown",
      "source": [
        "The box plots and hist plots did change slightly and looks more uniform, so it is to my belief that the change did benefit in the end."
      ],
      "metadata": {
        "id": "R0S9HVDh1Q9U"
      }
    },
    {
      "cell_type": "markdown",
      "source": [
        "**Q4:** \n",
        "\n",
        "---\n",
        "\n",
        "Consider the symboling, make, and engine-type variables,\n",
        "\n",
        "**A**:\n",
        "Symboling: content is **categorical/ordinal** as there is an ranking/order to it\n",
        "\n",
        "Make: content is **categorical/nominalas** as there is no ranking/order to it\n",
        "\n",
        "Engine-Type: content is **categorical/nominal** as there is no ranking/order to it\n",
        "\n",
        "**B**:\n",
        "Symboling: To prepare this for use within a machine learning algorithm, I would clean the data. Cleaning the data would consist of removing any NaNs or '?' that reside inside of the data set provided. If the symboling is missing from the vehicle then it will grab the next cars symbol value for its own.\n",
        "\n",
        "Make: To prepare this for use within a machine learning algorithm, I would clean the data. Cleaning the data would consist of removing any NaNs or '?' that reside inside of the data set provided. If the make is missing from the vehicle, then it will be removed from the data set as the make of the car is important as a Toyota on average isn't as expensive as a Mercedes-Benz.\n",
        "\n",
        "Engine-Type: To prepare this for use within a machine learning algorithm, I would clean the data. Cleaning the data would consist of removing any NaNs or '?' that reside inside of the data set provided. If it is missing from the data set then it will be removed as some this information being misleading may effect the pricings credibility or give misleading horsepower rating.\n"
      ],
      "metadata": {
        "id": "hDfYkn__1pnw"
      }
    }
  ]
}